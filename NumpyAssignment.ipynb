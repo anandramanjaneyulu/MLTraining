{
 "cells": [
  {
   "cell_type": "code",
   "execution_count": 1,
   "metadata": {},
   "outputs": [],
   "source": [
    "#Write a function so that the columns of the output matrix are powers of the inputvector.\n",
    "#The order of the powers is determined by the increasing boolean argument. Specifically, when\n",
    "#increasing is False, the i-th output column is the input vector raised element-wise to the power\n",
    "#of N - i - 1."
   ]
  },
  {
   "cell_type": "code",
   "execution_count": 1,
   "metadata": {},
   "outputs": [
    {
     "name": "stdout",
     "output_type": "stream",
     "text": [
      "Decreasing_order:\n",
      "\n",
      " [[ 1  1  1]\n",
      " [ 4  2  1]\n",
      " [ 9  3  1]\n",
      " [16  4  1]\n",
      " [25  5  1]] \n",
      "\n",
      "Increasing order:\n",
      "\n",
      " [[ 1  1  1]\n",
      " [ 1  2  4]\n",
      " [ 1  3  9]\n",
      " [ 1  4 16]\n",
      " [ 1  5 25]] \n",
      "\n",
      "Decreasing_order:\n",
      "\n",
      " [[    1     1     1     1     1]\n",
      " [   16     8     4     2     1]\n",
      " [  256    64    16     4     1]\n",
      " [ 1296   216    36     6     1]\n",
      " [ 4096   512    64     8     1]\n",
      " [10000  1000   100    10     1]] \n",
      "\n",
      "Increasing_order:\n",
      "\n",
      " [[    1     1     1     1     1]\n",
      " [    1     2     4     8    16]\n",
      " [    1     4    16    64   256]\n",
      " [    1     6    36   216  1296]\n",
      " [    1     8    64   512  4096]\n",
      " [    1    10   100  1000 10000]] \n",
      "\n"
     ]
    }
   ],
   "source": [
    "import numpy as np\n",
    "\n",
    "def vander_matrix(ip, n, increasing=False):\n",
    "    \n",
    "    if increasing:\n",
    "        op = np.array([x**i for x in ip for i in range(n)]).reshape(ip.size,n)\n",
    "    else:\n",
    "        op = np.array([x**(n-1-i) for x in ip for i in range(n)]).reshape(ip.size,n)\n",
    "    return op\n",
    "\n",
    "ip = np.array([1,2,3,4,5])\n",
    "no_col = 3\n",
    "op_dec_order = vander_matrix(ip,no_col,False)\n",
    "op_inc_order = vander_matrix(ip,no_col,True)\n",
    "\n",
    "print(\"Decreasing_order:\\n\\n\",op_dec_order,\"\\n\")\n",
    "print(\"Increasing order:\\n\\n\",op_inc_order,\"\\n\")\n",
    "\n",
    "ip = np.array([1,2,4,6,8,10])\n",
    "no_col = 5\n",
    "op_dec_order = vander_matrix(ip,no_col,False)\n",
    "op_inc_order = vander_matrix(ip,no_col,True)\n",
    "\n",
    "\n",
    "print(\"Decreasing_order:\\n\\n\",op_dec_order,\"\\n\")\n",
    "print(\"Increasing_order:\\n\\n\",op_inc_order,\"\\n\")\n",
    "\n"
   ]
  },
  {
   "cell_type": "code",
   "execution_count": 3,
   "metadata": {},
   "outputs": [],
   "source": [
    "#Write a function to find moving average in an array over a window:\n",
    "#Test it over [3, 5, 7, 2, 8, 10, 11, 65, 72, 81, 99, 100, 150] and window of 3."
   ]
  },
  {
   "cell_type": "code",
   "execution_count": 6,
   "metadata": {},
   "outputs": [],
   "source": [
    "def mov_avg_val(mylist, N):\n",
    "    cumsum, moving_aves = [0], []\n",
    "    for i, x in enumerate(mylist, 1):\n",
    "        cumsum.append(cumsum[i-1] + x) \n",
    "        if i>=N:\n",
    "            moving_ave = round(((cumsum[i] - cumsum[i-N])/N),2) \n",
    "            moving_aves.append(moving_ave) # listing the moving average as an single array\n",
    "    print(\"Moving_average_values: \", moving_aves)"
   ]
  },
  {
   "cell_type": "code",
   "execution_count": 7,
   "metadata": {},
   "outputs": [
    {
     "name": "stdout",
     "output_type": "stream",
     "text": [
      "Moving_average_values:  [5.0, 4.67, 5.67, 6.67, 9.67, 28.67, 49.33, 72.67, 84.0, 93.33, 116.33]\n"
     ]
    }
   ],
   "source": [
    "mylist = [3, 5, 7, 2, 8, 10, 11, 65, 72, 81, 99, 100, 150]\n",
    "N = 3\n",
    "mov_avg_val(mylist,N)"
   ]
  },
  {
   "cell_type": "code",
   "execution_count": null,
   "metadata": {},
   "outputs": [],
   "source": []
  },
  {
   "cell_type": "code",
   "execution_count": null,
   "metadata": {},
   "outputs": [],
   "source": []
  },
  {
   "cell_type": "code",
   "execution_count": null,
   "metadata": {},
   "outputs": [],
   "source": []
  },
  {
   "cell_type": "code",
   "execution_count": null,
   "metadata": {},
   "outputs": [],
   "source": []
  }
 ],
 "metadata": {
  "kernelspec": {
   "display_name": "Python 3",
   "language": "python",
   "name": "python3"
  },
  "language_info": {
   "codemirror_mode": {
    "name": "ipython",
    "version": 3
   },
   "file_extension": ".py",
   "mimetype": "text/x-python",
   "name": "python",
   "nbconvert_exporter": "python",
   "pygments_lexer": "ipython3",
   "version": "3.7.6"
  }
 },
 "nbformat": 4,
 "nbformat_minor": 4
}
